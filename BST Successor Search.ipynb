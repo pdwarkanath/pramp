{
 "cells": [
  {
   "cell_type": "markdown",
   "id": "7d7f690c",
   "metadata": {},
   "source": [
    "In a Binary Search Tree (BST), an Inorder Successor of a node is defined as the node with the smallest key greater than the key of the input node (see examples below). Given a node inputNode in a BST, you’re asked to write a function findInOrderSuccessor that returns the Inorder Successor of inputNode. If inputNode has no Inorder Successor, return null.\n",
    "\n",
    "Explain your solution and analyze its time and space complexities.\n",
    "\n"
   ]
  },
  {
   "attachments": {},
   "cell_type": "markdown",
   "id": "9ec3263c",
   "metadata": {},
   "source": [
    "![img_02.png](img_02.png)"
   ]
  },
  {
   "cell_type": "markdown",
   "id": "558135e5",
   "metadata": {},
   "source": [
    "In this diagram, the inorder successor of 9 is 11 and the inorder successor of 14 is 20."
   ]
  },
  {
   "cell_type": "code",
   "execution_count": null,
   "id": "42a3e5f3",
   "metadata": {},
   "outputs": [],
   "source": [
    "#########################################################\n",
    "# CODE INSTRUCTIONS:                                    #\n",
    "# 1) The method findInOrderSuccessor you're asked      #\n",
    "#    to implement is located at line 30.                #\n",
    "# 2) Use the helper code below to implement it.         #\n",
    "# 3) In a nutshell, the helper code allows you to       #\n",
    "#    to build a Binary Search Tree.                     #\n",
    "# 4) Jump to line 88 to see an example for how the      #\n",
    "#    helper code is used to test findInOrderSuccessor.  #\n",
    "#########################################################"
   ]
  },
  {
   "cell_type": "code",
   "execution_count": 20,
   "id": "3a04c6b0",
   "metadata": {},
   "outputs": [],
   "source": [
    "# A node \n",
    "class Node:\n",
    "\n",
    "    # Constructor to create a new node\n",
    "    def __init__(self, key):\n",
    "        self.key = key \n",
    "        self.left = None\n",
    "        self.right = None\n",
    "        self.parent = None"
   ]
  },
  {
   "cell_type": "code",
   "execution_count": 27,
   "id": "bf0885f9",
   "metadata": {},
   "outputs": [],
   "source": [
    "# A binary search tree \n",
    "class BinarySearchTree:\n",
    "\n",
    "    # Constructor to create a new BST\n",
    "    def __init__(self):\n",
    "        self.root = None \n",
    "    def is_left(self, node, parent):\n",
    "        return node.parent.left == node\n",
    "    def is_right(self, node, parent):\n",
    "        return node.parent.right == node\n",
    "    # Yes just a check for last element is needed\n",
    "    def is_root(self, node):\n",
    "        return node.parent is None\n",
    "\n",
    "    def is_last(self, node):\n",
    "        ptr = node\n",
    "        while ptr.parent is not None and self.is_right(ptr, ptr.parent):\n",
    "            ptr = ptr.parent\n",
    "        return self.is_root(ptr)\n",
    "    def find_in_order_successor(self, inputNode):\n",
    "        if inputNode.right is None:\n",
    "            ptr = inputNode\n",
    "            if self.is_last(ptr):\n",
    "                return\n",
    "            while self.is_right(ptr, ptr.parent):\n",
    "                ptr = ptr.parent\n",
    "            if ptr is None:\n",
    "                return\n",
    "            return ptr.parent\n",
    "        else:\n",
    "            ptr = inputNode.right\n",
    "            while ptr.left is not None:\n",
    "                ptr = ptr.left\n",
    "            return ptr\n",
    "    # It's done.\n",
    "\n",
    "    # Given a binary search tree and a number, inserts a\n",
    "    # new node with the given number in the correct place\n",
    "    # in the tree. Returns the new root pointer which the\n",
    "    # caller should then use(the standard trick to avoid \n",
    "    # using reference parameters)\n",
    "    def insert(self, key):\n",
    "\n",
    "        # 1) If tree is empty, create the root\n",
    "        if (self.root is None):\n",
    "            self.root = Node(key)\n",
    "            return\n",
    "\n",
    "        # 2) Otherwise, create a node with the key\n",
    "        #    and traverse down the tree to find where to\n",
    "        #    to insert the new node\n",
    "        currentNode = self.root\n",
    "        newNode = Node(key)\n",
    "        while(currentNode is not None):\n",
    "\n",
    "            if(key < currentNode.key):\n",
    "                if(currentNode.left is None):\n",
    "                    currentNode.left = newNode;\n",
    "                    newNode.parent = currentNode;\n",
    "                    break\n",
    "                else:\n",
    "                    currentNode = currentNode.left;\n",
    "            else:\n",
    "                if(currentNode.right is None):\n",
    "                    currentNode.right = newNode;\n",
    "                    newNode.parent = currentNode;\n",
    "                    break\n",
    "                else:\n",
    "                    currentNode = currentNode.right;\n",
    "\n",
    "    # Return a reference to a node in the BST by its key.\n",
    "    # Use this method when you need a node to test your\n",
    "    # findInOrderSuccessor function on\n",
    "    def getNodeByKey(self, key):\n",
    "\n",
    "        currentNode = self.root\n",
    "        while(currentNode is not None):\n",
    "            if(key == currentNode.key):\n",
    "                return currentNode\n",
    "            elif(key < currentNode.key):\n",
    "                currentNode = currentNode.left\n",
    "            else:\n",
    "                currentNode = currentNode.right\n",
    "\n",
    "        return None"
   ]
  },
  {
   "cell_type": "code",
   "execution_count": 28,
   "id": "1ffe19b9",
   "metadata": {},
   "outputs": [],
   "source": [
    "######################################### \n",
    "# Driver program to test above function #\n",
    "#########################################\n",
    "\n",
    "# Create a Binary Search Tree\n",
    "bst  = BinarySearchTree()\n",
    "bst.insert(20)\n",
    "bst.insert(9)\n",
    "bst.insert(25)\n",
    "bst.insert(5)\n",
    "bst.insert(12)\n",
    "bst.insert(11)  \n",
    "bst.insert(14)"
   ]
  },
  {
   "cell_type": "code",
   "execution_count": 29,
   "id": "db32cdf2",
   "metadata": {},
   "outputs": [],
   "source": [
    "# Get a reference to the node whose key is 9\n",
    "test = bst.getNodeByKey(14)"
   ]
  },
  {
   "cell_type": "code",
   "execution_count": 32,
   "id": "d6cde5aa",
   "metadata": {},
   "outputs": [],
   "source": [
    "# Find the in order successor of test\n",
    "succ = bst.find_in_order_successor(test)"
   ]
  },
  {
   "cell_type": "code",
   "execution_count": 33,
   "id": "1fa80a14",
   "metadata": {},
   "outputs": [
    {
     "name": "stdout",
     "output_type": "stream",
     "text": [
      "\n",
      "Inorder Successor of 14 is 20 \n"
     ]
    }
   ],
   "source": [
    "# Print the key of the successor node\n",
    "if succ is not None:\n",
    "    print (\"\\nInorder Successor of %d is %d \" \\\n",
    "            %(test.key , succ.key))\n",
    "else:\n",
    "    print (\"\\nInorder Successor doesn't exist\")"
   ]
  },
  {
   "cell_type": "code",
   "execution_count": null,
   "id": "c701c04c",
   "metadata": {},
   "outputs": [],
   "source": []
  }
 ],
 "metadata": {
  "kernelspec": {
   "display_name": "Python 3 (ipykernel)",
   "language": "python",
   "name": "python3"
  },
  "language_info": {
   "codemirror_mode": {
    "name": "ipython",
    "version": 3
   },
   "file_extension": ".py",
   "mimetype": "text/x-python",
   "name": "python",
   "nbconvert_exporter": "python",
   "pygments_lexer": "ipython3",
   "version": "3.9.7"
  }
 },
 "nbformat": 4,
 "nbformat_minor": 5
}
