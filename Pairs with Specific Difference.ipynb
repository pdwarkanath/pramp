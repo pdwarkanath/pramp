{
 "cells": [
  {
   "cell_type": "markdown",
   "id": "9068db3d",
   "metadata": {},
   "source": [
    "Given an array arr of distinct integers and a nonnegative integer k, write a function findPairsWithGivenDifference that returns an array of all pairs [x,y] in arr, such that x - y = k. If no such pairs exist, return an empty array.\n",
    "\n",
    "Note: the order of the pairs in the output array should maintain the order of the y element in the original array."
   ]
  },
  {
   "cell_type": "markdown",
   "id": "cb58b0d2",
   "metadata": {},
   "source": [
    "Examples:\n",
    "```\n",
    "input:  arr = [0, -1, -2, 2, 1], k = 1\n",
    "output: [[1, 0], [0, -1], [-1, -2], [2, 1]]\n",
    "\n",
    "input:  arr = [1, 7, 5, 3, 32, 17, 12], k = 17\n",
    "output: []\n",
    "```"
   ]
  },
  {
   "cell_type": "code",
   "execution_count": 12,
   "id": "9b57a13e",
   "metadata": {},
   "outputs": [],
   "source": [
    "def find_pairs_with_given_difference(arr, k):\n",
    "    result = []\n",
    "    diffs = set()\n",
    "    for x in arr:\n",
    "        y = x - k\n",
    "        diffs.add(y)\n",
    "    for y in arr:\n",
    "        if y in diffs:\n",
    "            result.append([y+k, y])\n",
    "    return result"
   ]
  },
  {
   "cell_type": "code",
   "execution_count": 13,
   "id": "3532d1ab",
   "metadata": {},
   "outputs": [],
   "source": [
    "arr = [0, -1, -2, 2, 1]\n",
    "k = 1"
   ]
  },
  {
   "cell_type": "code",
   "execution_count": 16,
   "id": "2fc18f99",
   "metadata": {},
   "outputs": [
    {
     "data": {
      "text/plain": [
       "True"
      ]
     },
     "execution_count": 16,
     "metadata": {},
     "output_type": "execute_result"
    }
   ],
   "source": [
    "find_pairs_with_given_difference(arr, k) == [[1, 0], [0, -1], [-1, -2], [2, 1]]"
   ]
  },
  {
   "cell_type": "code",
   "execution_count": 17,
   "id": "49a1bdb2",
   "metadata": {},
   "outputs": [],
   "source": [
    "arr = [1, 7, 5, 3, 32, 17, 12]\n",
    "k = 17"
   ]
  },
  {
   "cell_type": "code",
   "execution_count": 18,
   "id": "7ddbbbd1",
   "metadata": {},
   "outputs": [
    {
     "data": {
      "text/plain": [
       "True"
      ]
     },
     "execution_count": 18,
     "metadata": {},
     "output_type": "execute_result"
    }
   ],
   "source": [
    "find_pairs_with_given_difference(arr, k) == []"
   ]
  },
  {
   "cell_type": "code",
   "execution_count": null,
   "id": "f022abef",
   "metadata": {},
   "outputs": [],
   "source": []
  }
 ],
 "metadata": {
  "kernelspec": {
   "display_name": "Python 3 (ipykernel)",
   "language": "python",
   "name": "python3"
  },
  "language_info": {
   "codemirror_mode": {
    "name": "ipython",
    "version": 3
   },
   "file_extension": ".py",
   "mimetype": "text/x-python",
   "name": "python",
   "nbconvert_exporter": "python",
   "pygments_lexer": "ipython3",
   "version": "3.9.7"
  }
 },
 "nbformat": 4,
 "nbformat_minor": 5
}
