{
 "cells": [
  {
   "cell_type": "markdown",
   "id": "4e129456",
   "metadata": {},
   "source": [
    "Leetcode source: https://leetcode.com/problems/search-in-rotated-sorted-array/"
   ]
  },
  {
   "cell_type": "markdown",
   "id": "b5683137",
   "metadata": {},
   "source": [
    "There is an integer array nums sorted in ascending order (with distinct values).\n",
    "\n",
    "Prior to being passed to your function, nums is possibly rotated at an unknown pivot index k (1 <= k < nums.length) such that the resulting array is [nums[k], nums[k+1], ..., nums[n-1], nums[0], nums[1], ..., nums[k-1]] (0-indexed). For example, [0,1,2,4,5,6,7] might be rotated at pivot index 3 and become [4,5,6,7,0,1,2].\n",
    "\n",
    "Given the array nums after the possible rotation and an integer target, return the index of target if it is in nums, or -1 if it is not in nums.\n",
    "\n",
    "You must write an algorithm with O(log n) runtime complexity.\n",
    "\n",
    " \n",
    "\n",
    "Example 1:\n",
    "```\n",
    "Input: nums = [4,5,6,7,0,1,2], target = 0\n",
    "Output: 4\n",
    "```\n",
    "Example 2:\n",
    "```\n",
    "Input: nums = [4,5,6,7,0,1,2], target = 3\n",
    "Output: -1\n",
    "```\n",
    "Example 3:\n",
    "```\n",
    "Input: nums = [1], target = 0\n",
    "Output: -1\n",
    "```"
   ]
  },
  {
   "cell_type": "code",
   "execution_count": 5,
   "id": "cbd71f4f",
   "metadata": {},
   "outputs": [],
   "source": [
    "def binary_search(nums, target, start_idx):\n",
    "    n = len(nums)\n",
    "    mid = n//2\n",
    "    print(nums, mid)\n",
    "    if target == nums[mid]:\n",
    "        return start_idx+mid\n",
    "    elif n == 1:\n",
    "        return -1\n",
    "    elif target < nums[mid]:\n",
    "        return binary_search(nums[:mid], target, start_idx)\n",
    "    else:\n",
    "        return binary_search(nums[mid:], target, start_idx+mid)"
   ]
  },
  {
   "cell_type": "code",
   "execution_count": 6,
   "id": "92b6f87e",
   "metadata": {},
   "outputs": [],
   "source": [
    "def is_sorted(nums):\n",
    "    return nums[0] <= nums[-1]"
   ]
  },
  {
   "cell_type": "code",
   "execution_count": 7,
   "id": "05c086fc",
   "metadata": {},
   "outputs": [],
   "source": [
    "def is_in_interval(nums, target):\n",
    "    return not (target > nums[-1] or target < nums[0])"
   ]
  },
  {
   "cell_type": "code",
   "execution_count": 8,
   "id": "ac6c0541",
   "metadata": {},
   "outputs": [],
   "source": [
    "def search_helper(nums, target, start_idx):\n",
    "    if is_sorted(nums):\n",
    "        if is_in_interval(nums, target):\n",
    "            return binary_search(nums, target, start_idx)\n",
    "        else:\n",
    "            return -1\n",
    "    else:\n",
    "        n = len(nums)\n",
    "        mid = n//2\n",
    "        print(nums, mid)\n",
    "        return max(search_helper(nums[:mid], target, start_idx), search_helper(nums[mid:], target, start_idx+mid))"
   ]
  },
  {
   "cell_type": "code",
   "execution_count": 9,
   "id": "96ed9ef1",
   "metadata": {},
   "outputs": [],
   "source": [
    "def search(nums, target):\n",
    "    return search_helper(nums, target, 0)"
   ]
  },
  {
   "cell_type": "code",
   "execution_count": 16,
   "id": "53a1f3f5",
   "metadata": {},
   "outputs": [],
   "source": [
    "nums = [2]\n",
    "target = 2"
   ]
  },
  {
   "cell_type": "code",
   "execution_count": 17,
   "id": "13433062",
   "metadata": {},
   "outputs": [
    {
     "name": "stdout",
     "output_type": "stream",
     "text": [
      "[2] 0\n"
     ]
    },
    {
     "data": {
      "text/plain": [
       "0"
      ]
     },
     "execution_count": 17,
     "metadata": {},
     "output_type": "execute_result"
    }
   ],
   "source": [
    "search(nums, target)"
   ]
  },
  {
   "cell_type": "code",
   "execution_count": null,
   "id": "6651f2af",
   "metadata": {},
   "outputs": [],
   "source": []
  }
 ],
 "metadata": {
  "kernelspec": {
   "display_name": "Python 3 (ipykernel)",
   "language": "python",
   "name": "python3"
  },
  "language_info": {
   "codemirror_mode": {
    "name": "ipython",
    "version": 3
   },
   "file_extension": ".py",
   "mimetype": "text/x-python",
   "name": "python",
   "nbconvert_exporter": "python",
   "pygments_lexer": "ipython3",
   "version": "3.9.7"
  }
 },
 "nbformat": 4,
 "nbformat_minor": 5
}
