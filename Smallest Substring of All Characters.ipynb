{
 "cells": [
  {
   "cell_type": "markdown",
   "metadata": {},
   "source": [
    "Given an array of unique characters arr and a string str, Implement a function getShortestUniqueSubstring that finds the smallest substring of str containing all the characters in arr. Return \"\" (empty string) if such a substring doesn’t exist.\n",
    "\n",
    "Come up with an asymptotically optimal solution and analyze the time and space complexities.\n",
    "\n",
    "Example:\n",
    "```\n",
    "input:  arr = ['x','y','z'], str = \"xyyzyzyx\"\n",
    "\n",
    "output: \"zyx\"\n",
    "```"
   ]
  },
  {
   "cell_type": "code",
   "execution_count": 1,
   "metadata": {},
   "outputs": [],
   "source": [
    "def is_done(counts):\n",
    "    for k,v in counts.items():\n",
    "        if v == 0:\n",
    "            return False\n",
    "    return True"
   ]
  },
  {
   "cell_type": "code",
   "execution_count": 69,
   "metadata": {},
   "outputs": [],
   "source": [
    "def get_shortest_unique_substring(arr, word):\n",
    "    n = len(word)\n",
    "    print(n)\n",
    "    m = len(arr)\n",
    "    counts = {a:0 for a in arr}\n",
    "    for s in word:\n",
    "        if s in arr:\n",
    "            counts[s] += 1\n",
    "    done = is_done(counts)\n",
    "    if not done:\n",
    "        return \"\"\n",
    "    else:\n",
    "        window = word\n",
    "        while True:\n",
    "            if window[0] not in counts:\n",
    "                window = window[1:]\n",
    "            elif counts[window[0]] > 1:\n",
    "                counts[window[0]] -= 1\n",
    "                window = window[1:]\n",
    "            elif window[-1] not in counts:\n",
    "                window = window[:-1]\n",
    "            elif counts[window[-1]] > 1:\n",
    "                counts[window[-1]] -= 1\n",
    "                window = window[:-1]\n",
    "            else:\n",
    "                break\n",
    "    return window"
   ]
  },
  {
   "cell_type": "code",
   "execution_count": 70,
   "metadata": {},
   "outputs": [],
   "source": [
    "arr = ['A','B','C']\n",
    "word = \"ADOBECODEBANCDDD\""
   ]
  },
  {
   "cell_type": "code",
   "execution_count": null,
   "metadata": {},
   "outputs": [],
   "source": []
  }
 ],
 "metadata": {
  "kernelspec": {
   "display_name": "Python 3",
   "language": "python",
   "name": "python3"
  },
  "language_info": {
   "codemirror_mode": {
    "name": "ipython",
    "version": 3
   },
   "file_extension": ".py",
   "mimetype": "text/x-python",
   "name": "python",
   "nbconvert_exporter": "python",
   "pygments_lexer": "ipython3",
   "version": "3.7.4"
  }
 },
 "nbformat": 4,
 "nbformat_minor": 2
}
